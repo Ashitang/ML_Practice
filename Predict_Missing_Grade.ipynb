{
 "cells": [
  {
   "cell_type": "markdown",
   "metadata": {},
   "source": [
    "## Problem Statement\n",
    "This challenge is based on real school data of the CBSE Class 12 examination conducted in the year 2013.\n",
    "You are given the grades obtained by students with specific but popular combinations of subjects (and all\n",
    "these students had opted for Mathematics).\n",
    "Their grades in four subjects are known to you. However their grade in Mathematics (i.e, the fifth subject) is hidden.\n",
    "The records provided to you are the grades obtained by students who had opted for the following combinations of subjects or courses and obtained a passing grade in each subject. The individual subjects in the data are:\n",
    "English, Physics, Chemistry, Mathematics, Computer Science, Biology, Physical Education, Economics,\n",
    "Accountancy and Business Studies."
   ]
  },
  {
   "cell_type": "code",
   "execution_count": 1,
   "metadata": {},
   "outputs": [
    {
     "name": "stderr",
     "output_type": "stream",
     "text": [
      "C:\\ProgramData\\Anaconda3\\lib\\site-packages\\sklearn\\utils\\deprecation.py:144: FutureWarning: The sklearn.metrics.regression module is  deprecated in version 0.22 and will be removed in version 0.24. The corresponding classes / functions should instead be imported from sklearn.metrics. Anything that cannot be imported from sklearn.metrics is now part of the private API.\n",
      "  warnings.warn(message, FutureWarning)\n"
     ]
    }
   ],
   "source": [
    "# Importing libraries\n",
    "import numpy as np\n",
    "import pandas as pd\n",
    "import matplotlib.pyplot as plt\n",
    "import seaborn as sns\n",
    "import shutil\n",
    "%matplotlib inline\n",
    "\n",
    "# Classifier Libraries\n",
    "from sklearn.linear_model import LogisticRegression\n",
    "from sklearn.svm import SVC\n",
    "from sklearn.ensemble import RandomForestClassifier\n",
    "from sklearn.neighbors import KNeighborsClassifier\n",
    "\n",
    "#Other Libraries\n",
    "from sklearn.model_selection import train_test_split\n",
    "from sklearn.metrics import precision_score, recall_score, f1_score, accuracy_score, classification_report, regression,roc_auc_score\n",
    "import warnings\n",
    "warnings.filterwarnings(\"ignore\")"
   ]
  },
  {
   "cell_type": "code",
   "execution_count": 2,
   "metadata": {},
   "outputs": [],
   "source": [
    "# Loading the training dataset\n",
    "file = open(\"training.json\",\"r\")\n",
    "first_line = file.readlines(1)\n",
    "no_of_json_object = first_line[0]\n",
    "# print(no_of_json_object)\n",
    "\n",
    "training_data = open('training_data.json', 'w')\n",
    "shutil.copyfileobj(file,training_data)\n",
    "\n",
    "file.close()\n",
    "training_data.close()\n",
    "\n",
    "df = pd.read_json('training_data.json', lines=True)"
   ]
  },
  {
   "cell_type": "code",
   "execution_count": 3,
   "metadata": {},
   "outputs": [
    {
     "data": {
      "text/html": [
       "<div>\n",
       "<style scoped>\n",
       "    .dataframe tbody tr th:only-of-type {\n",
       "        vertical-align: middle;\n",
       "    }\n",
       "\n",
       "    .dataframe tbody tr th {\n",
       "        vertical-align: top;\n",
       "    }\n",
       "\n",
       "    .dataframe thead th {\n",
       "        text-align: right;\n",
       "    }\n",
       "</style>\n",
       "<table border=\"1\" class=\"dataframe\">\n",
       "  <thead>\n",
       "    <tr style=\"text-align: right;\">\n",
       "      <th></th>\n",
       "      <th>Physics</th>\n",
       "      <th>Chemistry</th>\n",
       "      <th>PhysicalEducation</th>\n",
       "      <th>English</th>\n",
       "      <th>Mathematics</th>\n",
       "      <th>serial</th>\n",
       "      <th>Biology</th>\n",
       "      <th>Accountancy</th>\n",
       "      <th>BusinessStudies</th>\n",
       "      <th>Economics</th>\n",
       "      <th>ComputerScience</th>\n",
       "    </tr>\n",
       "  </thead>\n",
       "  <tbody>\n",
       "    <tr>\n",
       "      <th>0</th>\n",
       "      <td>8.0</td>\n",
       "      <td>7.0</td>\n",
       "      <td>3.0</td>\n",
       "      <td>4</td>\n",
       "      <td>6</td>\n",
       "      <td>195490</td>\n",
       "      <td>NaN</td>\n",
       "      <td>NaN</td>\n",
       "      <td>NaN</td>\n",
       "      <td>NaN</td>\n",
       "      <td>NaN</td>\n",
       "    </tr>\n",
       "    <tr>\n",
       "      <th>1</th>\n",
       "      <td>1.0</td>\n",
       "      <td>1.0</td>\n",
       "      <td>1.0</td>\n",
       "      <td>3</td>\n",
       "      <td>3</td>\n",
       "      <td>190869</td>\n",
       "      <td>NaN</td>\n",
       "      <td>NaN</td>\n",
       "      <td>NaN</td>\n",
       "      <td>NaN</td>\n",
       "      <td>NaN</td>\n",
       "    </tr>\n",
       "    <tr>\n",
       "      <th>2</th>\n",
       "      <td>1.0</td>\n",
       "      <td>2.0</td>\n",
       "      <td>2.0</td>\n",
       "      <td>1</td>\n",
       "      <td>2</td>\n",
       "      <td>3111</td>\n",
       "      <td>NaN</td>\n",
       "      <td>NaN</td>\n",
       "      <td>NaN</td>\n",
       "      <td>NaN</td>\n",
       "      <td>NaN</td>\n",
       "    </tr>\n",
       "    <tr>\n",
       "      <th>3</th>\n",
       "      <td>8.0</td>\n",
       "      <td>7.0</td>\n",
       "      <td>6.0</td>\n",
       "      <td>7</td>\n",
       "      <td>7</td>\n",
       "      <td>47738</td>\n",
       "      <td>NaN</td>\n",
       "      <td>NaN</td>\n",
       "      <td>NaN</td>\n",
       "      <td>NaN</td>\n",
       "      <td>NaN</td>\n",
       "    </tr>\n",
       "    <tr>\n",
       "      <th>4</th>\n",
       "      <td>1.0</td>\n",
       "      <td>1.0</td>\n",
       "      <td>1.0</td>\n",
       "      <td>3</td>\n",
       "      <td>2</td>\n",
       "      <td>85520</td>\n",
       "      <td>NaN</td>\n",
       "      <td>NaN</td>\n",
       "      <td>NaN</td>\n",
       "      <td>NaN</td>\n",
       "      <td>NaN</td>\n",
       "    </tr>\n",
       "  </tbody>\n",
       "</table>\n",
       "</div>"
      ],
      "text/plain": [
       "   Physics  Chemistry  PhysicalEducation  English  Mathematics  serial  \\\n",
       "0      8.0        7.0                3.0        4            6  195490   \n",
       "1      1.0        1.0                1.0        3            3  190869   \n",
       "2      1.0        2.0                2.0        1            2    3111   \n",
       "3      8.0        7.0                6.0        7            7   47738   \n",
       "4      1.0        1.0                1.0        3            2   85520   \n",
       "\n",
       "   Biology  Accountancy  BusinessStudies  Economics  ComputerScience  \n",
       "0      NaN          NaN              NaN        NaN              NaN  \n",
       "1      NaN          NaN              NaN        NaN              NaN  \n",
       "2      NaN          NaN              NaN        NaN              NaN  \n",
       "3      NaN          NaN              NaN        NaN              NaN  \n",
       "4      NaN          NaN              NaN        NaN              NaN  "
      ]
     },
     "execution_count": 3,
     "metadata": {},
     "output_type": "execute_result"
    }
   ],
   "source": [
    "df.head()"
   ]
  },
  {
   "cell_type": "code",
   "execution_count": 4,
   "metadata": {},
   "outputs": [
    {
     "data": {
      "text/html": [
       "<div>\n",
       "<style scoped>\n",
       "    .dataframe tbody tr th:only-of-type {\n",
       "        vertical-align: middle;\n",
       "    }\n",
       "\n",
       "    .dataframe tbody tr th {\n",
       "        vertical-align: top;\n",
       "    }\n",
       "\n",
       "    .dataframe thead th {\n",
       "        text-align: right;\n",
       "    }\n",
       "</style>\n",
       "<table border=\"1\" class=\"dataframe\">\n",
       "  <thead>\n",
       "    <tr style=\"text-align: right;\">\n",
       "      <th></th>\n",
       "      <th>Physics</th>\n",
       "      <th>Chemistry</th>\n",
       "      <th>PhysicalEducation</th>\n",
       "      <th>English</th>\n",
       "      <th>Mathematics</th>\n",
       "      <th>serial</th>\n",
       "      <th>Biology</th>\n",
       "      <th>Accountancy</th>\n",
       "      <th>BusinessStudies</th>\n",
       "      <th>Economics</th>\n",
       "      <th>ComputerScience</th>\n",
       "    </tr>\n",
       "  </thead>\n",
       "  <tbody>\n",
       "    <tr>\n",
       "      <th>79460</th>\n",
       "      <td>2.0</td>\n",
       "      <td>2.0</td>\n",
       "      <td>NaN</td>\n",
       "      <td>3</td>\n",
       "      <td>1</td>\n",
       "      <td>705</td>\n",
       "      <td>NaN</td>\n",
       "      <td>NaN</td>\n",
       "      <td>NaN</td>\n",
       "      <td>NaN</td>\n",
       "      <td>3.0</td>\n",
       "    </tr>\n",
       "    <tr>\n",
       "      <th>79461</th>\n",
       "      <td>6.0</td>\n",
       "      <td>4.0</td>\n",
       "      <td>NaN</td>\n",
       "      <td>5</td>\n",
       "      <td>5</td>\n",
       "      <td>155605</td>\n",
       "      <td>3.0</td>\n",
       "      <td>NaN</td>\n",
       "      <td>NaN</td>\n",
       "      <td>NaN</td>\n",
       "      <td>NaN</td>\n",
       "    </tr>\n",
       "    <tr>\n",
       "      <th>79462</th>\n",
       "      <td>NaN</td>\n",
       "      <td>NaN</td>\n",
       "      <td>NaN</td>\n",
       "      <td>3</td>\n",
       "      <td>5</td>\n",
       "      <td>55508</td>\n",
       "      <td>NaN</td>\n",
       "      <td>2.0</td>\n",
       "      <td>3.0</td>\n",
       "      <td>3.0</td>\n",
       "      <td>NaN</td>\n",
       "    </tr>\n",
       "    <tr>\n",
       "      <th>79463</th>\n",
       "      <td>2.0</td>\n",
       "      <td>2.0</td>\n",
       "      <td>1.0</td>\n",
       "      <td>1</td>\n",
       "      <td>1</td>\n",
       "      <td>136471</td>\n",
       "      <td>NaN</td>\n",
       "      <td>NaN</td>\n",
       "      <td>NaN</td>\n",
       "      <td>NaN</td>\n",
       "      <td>NaN</td>\n",
       "    </tr>\n",
       "    <tr>\n",
       "      <th>79464</th>\n",
       "      <td>2.0</td>\n",
       "      <td>3.0</td>\n",
       "      <td>NaN</td>\n",
       "      <td>3</td>\n",
       "      <td>2</td>\n",
       "      <td>180880</td>\n",
       "      <td>NaN</td>\n",
       "      <td>NaN</td>\n",
       "      <td>NaN</td>\n",
       "      <td>2.0</td>\n",
       "      <td>NaN</td>\n",
       "    </tr>\n",
       "  </tbody>\n",
       "</table>\n",
       "</div>"
      ],
      "text/plain": [
       "       Physics  Chemistry  PhysicalEducation  English  Mathematics  serial  \\\n",
       "79460      2.0        2.0                NaN        3            1     705   \n",
       "79461      6.0        4.0                NaN        5            5  155605   \n",
       "79462      NaN        NaN                NaN        3            5   55508   \n",
       "79463      2.0        2.0                1.0        1            1  136471   \n",
       "79464      2.0        3.0                NaN        3            2  180880   \n",
       "\n",
       "       Biology  Accountancy  BusinessStudies  Economics  ComputerScience  \n",
       "79460      NaN          NaN              NaN        NaN              3.0  \n",
       "79461      3.0          NaN              NaN        NaN              NaN  \n",
       "79462      NaN          2.0              3.0        3.0              NaN  \n",
       "79463      NaN          NaN              NaN        NaN              NaN  \n",
       "79464      NaN          NaN              NaN        2.0              NaN  "
      ]
     },
     "execution_count": 4,
     "metadata": {},
     "output_type": "execute_result"
    }
   ],
   "source": [
    "df.tail()"
   ]
  },
  {
   "cell_type": "code",
   "execution_count": 5,
   "metadata": {},
   "outputs": [
    {
     "data": {
      "text/plain": [
       "Physics              17.259171\n",
       "Chemistry            17.174857\n",
       "PhysicalEducation    59.223558\n",
       "English               0.000000\n",
       "Mathematics           0.000000\n",
       "serial                0.000000\n",
       "Biology              81.308752\n",
       "Accountancy          82.934625\n",
       "BusinessStudies      83.062984\n",
       "Economics            82.341912\n",
       "ComputerScience      76.694142\n",
       "dtype: float64"
      ]
     },
     "execution_count": 5,
     "metadata": {},
     "output_type": "execute_result"
    }
   ],
   "source": [
    "df.isna().sum()/(79465) * 100"
   ]
  },
  {
   "cell_type": "code",
   "execution_count": 6,
   "metadata": {},
   "outputs": [
    {
     "data": {
      "text/plain": [
       "(79465, 11)"
      ]
     },
     "execution_count": 6,
     "metadata": {},
     "output_type": "execute_result"
    }
   ],
   "source": [
    "df.shape"
   ]
  },
  {
   "cell_type": "code",
   "execution_count": 7,
   "metadata": {},
   "outputs": [
    {
     "name": "stdout",
     "output_type": "stream",
     "text": [
      "<class 'pandas.core.frame.DataFrame'>\n",
      "RangeIndex: 79465 entries, 0 to 79464\n",
      "Data columns (total 11 columns):\n",
      " #   Column             Non-Null Count  Dtype  \n",
      "---  ------             --------------  -----  \n",
      " 0   Physics            65750 non-null  float64\n",
      " 1   Chemistry          65817 non-null  float64\n",
      " 2   PhysicalEducation  32403 non-null  float64\n",
      " 3   English            79465 non-null  int64  \n",
      " 4   Mathematics        79465 non-null  int64  \n",
      " 5   serial             79465 non-null  int64  \n",
      " 6   Biology            14853 non-null  float64\n",
      " 7   Accountancy        13561 non-null  float64\n",
      " 8   BusinessStudies    13459 non-null  float64\n",
      " 9   Economics          14032 non-null  float64\n",
      " 10  ComputerScience    18520 non-null  float64\n",
      "dtypes: float64(8), int64(3)\n",
      "memory usage: 6.7 MB\n"
     ]
    }
   ],
   "source": [
    "df.info()"
   ]
  },
  {
   "cell_type": "code",
   "execution_count": 8,
   "metadata": {},
   "outputs": [
    {
     "data": {
      "text/html": [
       "<div>\n",
       "<style scoped>\n",
       "    .dataframe tbody tr th:only-of-type {\n",
       "        vertical-align: middle;\n",
       "    }\n",
       "\n",
       "    .dataframe tbody tr th {\n",
       "        vertical-align: top;\n",
       "    }\n",
       "\n",
       "    .dataframe thead th {\n",
       "        text-align: right;\n",
       "    }\n",
       "</style>\n",
       "<table border=\"1\" class=\"dataframe\">\n",
       "  <thead>\n",
       "    <tr style=\"text-align: right;\">\n",
       "      <th></th>\n",
       "      <th>Physics</th>\n",
       "      <th>Chemistry</th>\n",
       "      <th>PhysicalEducation</th>\n",
       "      <th>English</th>\n",
       "      <th>Mathematics</th>\n",
       "      <th>serial</th>\n",
       "      <th>Biology</th>\n",
       "      <th>Accountancy</th>\n",
       "      <th>BusinessStudies</th>\n",
       "      <th>Economics</th>\n",
       "      <th>ComputerScience</th>\n",
       "    </tr>\n",
       "  </thead>\n",
       "  <tbody>\n",
       "    <tr>\n",
       "      <th>count</th>\n",
       "      <td>65750.000000</td>\n",
       "      <td>65817.000000</td>\n",
       "      <td>32403.000000</td>\n",
       "      <td>79465.000000</td>\n",
       "      <td>79465.000000</td>\n",
       "      <td>79465.000000</td>\n",
       "      <td>14853.000000</td>\n",
       "      <td>13561.000000</td>\n",
       "      <td>13459.000000</td>\n",
       "      <td>14032.000000</td>\n",
       "      <td>18520.000000</td>\n",
       "    </tr>\n",
       "    <tr>\n",
       "      <th>mean</th>\n",
       "      <td>3.992593</td>\n",
       "      <td>3.983971</td>\n",
       "      <td>3.186032</td>\n",
       "      <td>3.072044</td>\n",
       "      <td>4.247858</td>\n",
       "      <td>111242.377638</td>\n",
       "      <td>3.599004</td>\n",
       "      <td>2.613672</td>\n",
       "      <td>2.893751</td>\n",
       "      <td>2.469142</td>\n",
       "      <td>3.876350</td>\n",
       "    </tr>\n",
       "    <tr>\n",
       "      <th>std</th>\n",
       "      <td>2.213173</td>\n",
       "      <td>2.165750</td>\n",
       "      <td>1.912542</td>\n",
       "      <td>1.796456</td>\n",
       "      <td>2.357411</td>\n",
       "      <td>64406.827932</td>\n",
       "      <td>2.071209</td>\n",
       "      <td>1.748936</td>\n",
       "      <td>1.952590</td>\n",
       "      <td>1.727387</td>\n",
       "      <td>2.150361</td>\n",
       "    </tr>\n",
       "    <tr>\n",
       "      <th>min</th>\n",
       "      <td>1.000000</td>\n",
       "      <td>1.000000</td>\n",
       "      <td>1.000000</td>\n",
       "      <td>1.000000</td>\n",
       "      <td>1.000000</td>\n",
       "      <td>1.000000</td>\n",
       "      <td>1.000000</td>\n",
       "      <td>1.000000</td>\n",
       "      <td>1.000000</td>\n",
       "      <td>1.000000</td>\n",
       "      <td>1.000000</td>\n",
       "    </tr>\n",
       "    <tr>\n",
       "      <th>25%</th>\n",
       "      <td>2.000000</td>\n",
       "      <td>2.000000</td>\n",
       "      <td>2.000000</td>\n",
       "      <td>2.000000</td>\n",
       "      <td>2.000000</td>\n",
       "      <td>55404.000000</td>\n",
       "      <td>2.000000</td>\n",
       "      <td>1.000000</td>\n",
       "      <td>1.000000</td>\n",
       "      <td>1.000000</td>\n",
       "      <td>2.000000</td>\n",
       "    </tr>\n",
       "    <tr>\n",
       "      <th>50%</th>\n",
       "      <td>4.000000</td>\n",
       "      <td>4.000000</td>\n",
       "      <td>3.000000</td>\n",
       "      <td>3.000000</td>\n",
       "      <td>4.000000</td>\n",
       "      <td>111250.000000</td>\n",
       "      <td>3.000000</td>\n",
       "      <td>2.000000</td>\n",
       "      <td>2.000000</td>\n",
       "      <td>2.000000</td>\n",
       "      <td>4.000000</td>\n",
       "    </tr>\n",
       "    <tr>\n",
       "      <th>75%</th>\n",
       "      <td>6.000000</td>\n",
       "      <td>6.000000</td>\n",
       "      <td>4.000000</td>\n",
       "      <td>4.000000</td>\n",
       "      <td>6.000000</td>\n",
       "      <td>167014.000000</td>\n",
       "      <td>5.000000</td>\n",
       "      <td>4.000000</td>\n",
       "      <td>4.000000</td>\n",
       "      <td>3.000000</td>\n",
       "      <td>6.000000</td>\n",
       "    </tr>\n",
       "    <tr>\n",
       "      <th>max</th>\n",
       "      <td>8.000000</td>\n",
       "      <td>8.000000</td>\n",
       "      <td>8.000000</td>\n",
       "      <td>8.000000</td>\n",
       "      <td>8.000000</td>\n",
       "      <td>222844.000000</td>\n",
       "      <td>8.000000</td>\n",
       "      <td>8.000000</td>\n",
       "      <td>8.000000</td>\n",
       "      <td>8.000000</td>\n",
       "      <td>8.000000</td>\n",
       "    </tr>\n",
       "  </tbody>\n",
       "</table>\n",
       "</div>"
      ],
      "text/plain": [
       "            Physics     Chemistry  PhysicalEducation       English  \\\n",
       "count  65750.000000  65817.000000       32403.000000  79465.000000   \n",
       "mean       3.992593      3.983971           3.186032      3.072044   \n",
       "std        2.213173      2.165750           1.912542      1.796456   \n",
       "min        1.000000      1.000000           1.000000      1.000000   \n",
       "25%        2.000000      2.000000           2.000000      2.000000   \n",
       "50%        4.000000      4.000000           3.000000      3.000000   \n",
       "75%        6.000000      6.000000           4.000000      4.000000   \n",
       "max        8.000000      8.000000           8.000000      8.000000   \n",
       "\n",
       "        Mathematics         serial       Biology   Accountancy  \\\n",
       "count  79465.000000   79465.000000  14853.000000  13561.000000   \n",
       "mean       4.247858  111242.377638      3.599004      2.613672   \n",
       "std        2.357411   64406.827932      2.071209      1.748936   \n",
       "min        1.000000       1.000000      1.000000      1.000000   \n",
       "25%        2.000000   55404.000000      2.000000      1.000000   \n",
       "50%        4.000000  111250.000000      3.000000      2.000000   \n",
       "75%        6.000000  167014.000000      5.000000      4.000000   \n",
       "max        8.000000  222844.000000      8.000000      8.000000   \n",
       "\n",
       "       BusinessStudies     Economics  ComputerScience  \n",
       "count     13459.000000  14032.000000     18520.000000  \n",
       "mean          2.893751      2.469142         3.876350  \n",
       "std           1.952590      1.727387         2.150361  \n",
       "min           1.000000      1.000000         1.000000  \n",
       "25%           1.000000      1.000000         2.000000  \n",
       "50%           2.000000      2.000000         4.000000  \n",
       "75%           4.000000      3.000000         6.000000  \n",
       "max           8.000000      8.000000         8.000000  "
      ]
     },
     "execution_count": 8,
     "metadata": {},
     "output_type": "execute_result"
    }
   ],
   "source": [
    "df.describe()"
   ]
  },
  {
   "cell_type": "code",
   "execution_count": 9,
   "metadata": {},
   "outputs": [
    {
     "data": {
      "text/plain": [
       "Index(['Physics', 'Chemistry', 'PhysicalEducation', 'English', 'Mathematics',\n",
       "       'serial', 'Biology', 'Accountancy', 'BusinessStudies', 'Economics',\n",
       "       'ComputerScience'],\n",
       "      dtype='object')"
      ]
     },
     "execution_count": 9,
     "metadata": {},
     "output_type": "execute_result"
    }
   ],
   "source": [
    "df.columns"
   ]
  },
  {
   "cell_type": "code",
   "execution_count": 10,
   "metadata": {},
   "outputs": [
    {
     "data": {
      "text/plain": [
       "array([195490, 190869,   3111, ...,  55508, 136471, 180880], dtype=int64)"
      ]
     },
     "execution_count": 10,
     "metadata": {},
     "output_type": "execute_result"
    }
   ],
   "source": [
    "df['serial'].unique()"
   ]
  },
  {
   "cell_type": "code",
   "execution_count": 11,
   "metadata": {},
   "outputs": [],
   "source": [
    "df.drop([\"serial\"],axis=1,inplace=True)"
   ]
  },
  {
   "cell_type": "code",
   "execution_count": 12,
   "metadata": {},
   "outputs": [
    {
     "data": {
      "text/html": [
       "<div>\n",
       "<style scoped>\n",
       "    .dataframe tbody tr th:only-of-type {\n",
       "        vertical-align: middle;\n",
       "    }\n",
       "\n",
       "    .dataframe tbody tr th {\n",
       "        vertical-align: top;\n",
       "    }\n",
       "\n",
       "    .dataframe thead th {\n",
       "        text-align: right;\n",
       "    }\n",
       "</style>\n",
       "<table border=\"1\" class=\"dataframe\">\n",
       "  <thead>\n",
       "    <tr style=\"text-align: right;\">\n",
       "      <th></th>\n",
       "      <th>Physics</th>\n",
       "      <th>Chemistry</th>\n",
       "      <th>PhysicalEducation</th>\n",
       "      <th>English</th>\n",
       "      <th>Mathematics</th>\n",
       "      <th>Biology</th>\n",
       "      <th>Accountancy</th>\n",
       "      <th>BusinessStudies</th>\n",
       "      <th>Economics</th>\n",
       "      <th>ComputerScience</th>\n",
       "    </tr>\n",
       "  </thead>\n",
       "  <tbody>\n",
       "    <tr>\n",
       "      <th>0</th>\n",
       "      <td>8.0</td>\n",
       "      <td>7.0</td>\n",
       "      <td>3.0</td>\n",
       "      <td>4</td>\n",
       "      <td>6</td>\n",
       "      <td>NaN</td>\n",
       "      <td>NaN</td>\n",
       "      <td>NaN</td>\n",
       "      <td>NaN</td>\n",
       "      <td>NaN</td>\n",
       "    </tr>\n",
       "    <tr>\n",
       "      <th>1</th>\n",
       "      <td>1.0</td>\n",
       "      <td>1.0</td>\n",
       "      <td>1.0</td>\n",
       "      <td>3</td>\n",
       "      <td>3</td>\n",
       "      <td>NaN</td>\n",
       "      <td>NaN</td>\n",
       "      <td>NaN</td>\n",
       "      <td>NaN</td>\n",
       "      <td>NaN</td>\n",
       "    </tr>\n",
       "    <tr>\n",
       "      <th>2</th>\n",
       "      <td>1.0</td>\n",
       "      <td>2.0</td>\n",
       "      <td>2.0</td>\n",
       "      <td>1</td>\n",
       "      <td>2</td>\n",
       "      <td>NaN</td>\n",
       "      <td>NaN</td>\n",
       "      <td>NaN</td>\n",
       "      <td>NaN</td>\n",
       "      <td>NaN</td>\n",
       "    </tr>\n",
       "    <tr>\n",
       "      <th>3</th>\n",
       "      <td>8.0</td>\n",
       "      <td>7.0</td>\n",
       "      <td>6.0</td>\n",
       "      <td>7</td>\n",
       "      <td>7</td>\n",
       "      <td>NaN</td>\n",
       "      <td>NaN</td>\n",
       "      <td>NaN</td>\n",
       "      <td>NaN</td>\n",
       "      <td>NaN</td>\n",
       "    </tr>\n",
       "    <tr>\n",
       "      <th>4</th>\n",
       "      <td>1.0</td>\n",
       "      <td>1.0</td>\n",
       "      <td>1.0</td>\n",
       "      <td>3</td>\n",
       "      <td>2</td>\n",
       "      <td>NaN</td>\n",
       "      <td>NaN</td>\n",
       "      <td>NaN</td>\n",
       "      <td>NaN</td>\n",
       "      <td>NaN</td>\n",
       "    </tr>\n",
       "  </tbody>\n",
       "</table>\n",
       "</div>"
      ],
      "text/plain": [
       "   Physics  Chemistry  PhysicalEducation  English  Mathematics  Biology  \\\n",
       "0      8.0        7.0                3.0        4            6      NaN   \n",
       "1      1.0        1.0                1.0        3            3      NaN   \n",
       "2      1.0        2.0                2.0        1            2      NaN   \n",
       "3      8.0        7.0                6.0        7            7      NaN   \n",
       "4      1.0        1.0                1.0        3            2      NaN   \n",
       "\n",
       "   Accountancy  BusinessStudies  Economics  ComputerScience  \n",
       "0          NaN              NaN        NaN              NaN  \n",
       "1          NaN              NaN        NaN              NaN  \n",
       "2          NaN              NaN        NaN              NaN  \n",
       "3          NaN              NaN        NaN              NaN  \n",
       "4          NaN              NaN        NaN              NaN  "
      ]
     },
     "execution_count": 12,
     "metadata": {},
     "output_type": "execute_result"
    }
   ],
   "source": [
    "df.head()"
   ]
  },
  {
   "cell_type": "code",
   "execution_count": 13,
   "metadata": {},
   "outputs": [
    {
     "data": {
      "text/plain": [
       "<matplotlib.axes._subplots.AxesSubplot at 0xcab6248>"
      ]
     },
     "execution_count": 13,
     "metadata": {},
     "output_type": "execute_result"
    },
    {
     "data": {
      "image/png": "[encoded data removed]",
      "text/plain": [
       "<Figure size 1728x864 with 2 Axes>"
      ]
     },
     "metadata": {
      "needs_background": "light"
     },
     "output_type": "display_data"
    }
   ],
   "source": [
    "# Plotting Correlation Matrix to find out the correlation of the features\n",
    "colormap = plt.cm.RdBu\n",
    "plt.figure(figsize=(24,12))\n",
    "plt.title('Correlation of Features', size=15)\n",
    "sns.heatmap(df.corr(), linewidths=0.1, vmax=1.0, square=True, cmap=colormap, linecolor='white', annot=True)"
   ]
  },
  {
   "cell_type": "code",
   "execution_count": 14,
   "metadata": {},
   "outputs": [],
   "source": [
    "# Importing iterative imputer to fill in the NaN Values iteratively\n",
    "from sklearn.experimental import enable_iterative_imputer\n",
    "from sklearn.impute import IterativeImputer as MICE"
   ]
  },
  {
   "cell_type": "code",
   "execution_count": 15,
   "metadata": {},
   "outputs": [],
   "source": [
    "df = pd.DataFrame(MICE().fit_transform(df))\n",
    "df.columns = ['Physics','Chemistry','PhysicalEducation','English','Mathematics','Biology',\n",
    "             'Accountancy','BusinessStudies','Economics','ComputerScience']"
   ]
  },
  {
   "cell_type": "code",
   "execution_count": 16,
   "metadata": {},
   "outputs": [
    {
     "data": {
      "text/html": [
       "<div>\n",
       "<style scoped>\n",
       "    .dataframe tbody tr th:only-of-type {\n",
       "        vertical-align: middle;\n",
       "    }\n",
       "\n",
       "    .dataframe tbody tr th {\n",
       "        vertical-align: top;\n",
       "    }\n",
       "\n",
       "    .dataframe thead th {\n",
       "        text-align: right;\n",
       "    }\n",
       "</style>\n",
       "<table border=\"1\" class=\"dataframe\">\n",
       "  <thead>\n",
       "    <tr style=\"text-align: right;\">\n",
       "      <th></th>\n",
       "      <th>Physics</th>\n",
       "      <th>Chemistry</th>\n",
       "      <th>PhysicalEducation</th>\n",
       "      <th>English</th>\n",
       "      <th>Mathematics</th>\n",
       "      <th>Biology</th>\n",
       "      <th>Accountancy</th>\n",
       "      <th>BusinessStudies</th>\n",
       "      <th>Economics</th>\n",
       "      <th>ComputerScience</th>\n",
       "    </tr>\n",
       "  </thead>\n",
       "  <tbody>\n",
       "    <tr>\n",
       "      <th>0</th>\n",
       "      <td>8.0</td>\n",
       "      <td>7.0</td>\n",
       "      <td>3.0</td>\n",
       "      <td>4.0</td>\n",
       "      <td>6.0</td>\n",
       "      <td>3.533094</td>\n",
       "      <td>6.036791</td>\n",
       "      <td>1.880538</td>\n",
       "      <td>2.602312</td>\n",
       "      <td>0.343512</td>\n",
       "    </tr>\n",
       "    <tr>\n",
       "      <th>1</th>\n",
       "      <td>1.0</td>\n",
       "      <td>1.0</td>\n",
       "      <td>1.0</td>\n",
       "      <td>3.0</td>\n",
       "      <td>3.0</td>\n",
       "      <td>3.547908</td>\n",
       "      <td>1.080806</td>\n",
       "      <td>3.890006</td>\n",
       "      <td>2.364831</td>\n",
       "      <td>-0.004751</td>\n",
       "    </tr>\n",
       "    <tr>\n",
       "      <th>2</th>\n",
       "      <td>1.0</td>\n",
       "      <td>2.0</td>\n",
       "      <td>2.0</td>\n",
       "      <td>1.0</td>\n",
       "      <td>2.0</td>\n",
       "      <td>3.618941</td>\n",
       "      <td>0.672716</td>\n",
       "      <td>3.389050</td>\n",
       "      <td>2.396406</td>\n",
       "      <td>4.679284</td>\n",
       "    </tr>\n",
       "    <tr>\n",
       "      <th>3</th>\n",
       "      <td>8.0</td>\n",
       "      <td>7.0</td>\n",
       "      <td>6.0</td>\n",
       "      <td>7.0</td>\n",
       "      <td>7.0</td>\n",
       "      <td>3.648200</td>\n",
       "      <td>4.090021</td>\n",
       "      <td>2.179944</td>\n",
       "      <td>2.567548</td>\n",
       "      <td>8.187511</td>\n",
       "    </tr>\n",
       "    <tr>\n",
       "      <th>4</th>\n",
       "      <td>1.0</td>\n",
       "      <td>1.0</td>\n",
       "      <td>1.0</td>\n",
       "      <td>3.0</td>\n",
       "      <td>2.0</td>\n",
       "      <td>3.549963</td>\n",
       "      <td>1.554960</td>\n",
       "      <td>3.780457</td>\n",
       "      <td>2.378433</td>\n",
       "      <td>0.122850</td>\n",
       "    </tr>\n",
       "  </tbody>\n",
       "</table>\n",
       "</div>"
      ],
      "text/plain": [
       "   Physics  Chemistry  PhysicalEducation  English  Mathematics   Biology  \\\n",
       "0      8.0        7.0                3.0      4.0          6.0  3.533094   \n",
       "1      1.0        1.0                1.0      3.0          3.0  3.547908   \n",
       "2      1.0        2.0                2.0      1.0          2.0  3.618941   \n",
       "3      8.0        7.0                6.0      7.0          7.0  3.648200   \n",
       "4      1.0        1.0                1.0      3.0          2.0  3.549963   \n",
       "\n",
       "   Accountancy  BusinessStudies  Economics  ComputerScience  \n",
       "0     6.036791         1.880538   2.602312         0.343512  \n",
       "1     1.080806         3.890006   2.364831        -0.004751  \n",
       "2     0.672716         3.389050   2.396406         4.679284  \n",
       "3     4.090021         2.179944   2.567548         8.187511  \n",
       "4     1.554960         3.780457   2.378433         0.122850  "
      ]
     },
     "execution_count": 16,
     "metadata": {},
     "output_type": "execute_result"
    }
   ],
   "source": [
    "df.head()"
   ]
  },
  {
   "cell_type": "code",
   "execution_count": 17,
   "metadata": {},
   "outputs": [
    {
     "data": {
      "text/plain": [
       "Physics              0\n",
       "Chemistry            0\n",
       "PhysicalEducation    0\n",
       "English              0\n",
       "Mathematics          0\n",
       "Biology              0\n",
       "Accountancy          0\n",
       "BusinessStudies      0\n",
       "Economics            0\n",
       "ComputerScience      0\n",
       "dtype: int64"
      ]
     },
     "execution_count": 17,
     "metadata": {},
     "output_type": "execute_result"
    }
   ],
   "source": [
    "df.isna().sum()"
   ]
  },
  {
   "cell_type": "code",
   "execution_count": 18,
   "metadata": {},
   "outputs": [
    {
     "data": {
      "text/plain": [
       "0"
      ]
     },
     "execution_count": 18,
     "metadata": {},
     "output_type": "execute_result"
    }
   ],
   "source": [
    "df.isnull().any(axis=1).sum()"
   ]
  },
  {
   "cell_type": "code",
   "execution_count": 20,
   "metadata": {},
   "outputs": [
    {
     "data": {
      "text/plain": [
       "1.000000    10778\n",
       "2.000000    10137\n",
       "3.000000     9418\n",
       "4.000000     8928\n",
       "5.000000     7914\n",
       "            ...  \n",
       "8.607907        1\n",
       "7.304268        1\n",
       "5.807638        1\n",
       "4.081276        1\n",
       "4.620199        1\n",
       "Name: Physics, Length: 5188, dtype: int64"
      ]
     },
     "execution_count": 20,
     "metadata": {},
     "output_type": "execute_result"
    }
   ],
   "source": [
    "#sns.countplot(df['Physics'])\n",
    "df['Physics'].value_counts()"
   ]
  },
  {
   "cell_type": "code",
   "execution_count": 21,
   "metadata": {},
   "outputs": [
    {
     "data": {
      "text/plain": [
       "2.000000    10520\n",
       "1.000000    10116\n",
       "3.000000     9953\n",
       "4.000000     8465\n",
       "5.000000     8261\n",
       "            ...  \n",
       "4.260505        1\n",
       "5.099429        1\n",
       "5.165966        1\n",
       "4.510660        1\n",
       "3.723827        1\n",
       "Name: Chemistry, Length: 5129, dtype: int64"
      ]
     },
     "execution_count": 21,
     "metadata": {},
     "output_type": "execute_result"
    }
   ],
   "source": [
    "#sns.countplot(df['Chemistry'])\n",
    "df['Chemistry'].value_counts()"
   ]
  },
  {
   "cell_type": "code",
   "execution_count": 29,
   "metadata": {},
   "outputs": [
    {
     "data": {
      "text/plain": [
       "1.0    19805\n",
       "2.0    15796\n",
       "3.0    14382\n",
       "4.0    11356\n",
       "5.0     8899\n",
       "6.0     5821\n",
       "7.0     2516\n",
       "8.0      890\n",
       "Name: English, dtype: int64"
      ]
     },
     "execution_count": 29,
     "metadata": {},
     "output_type": "execute_result"
    },
    {
     "data": {
      "image/png": "[encoded data removed]",
      "text/plain": [
       "<Figure size 432x288 with 1 Axes>"
      ]
     },
     "metadata": {
      "needs_background": "light"
     },
     "output_type": "display_data"
    }
   ],
   "source": [
    "sns.countplot(df['English'])\n",
    "df['English'].value_counts()"
   ]
  },
  {
   "cell_type": "code",
   "execution_count": 23,
   "metadata": {},
   "outputs": [
    {
     "data": {
      "text/plain": [
       "1.000000     3019\n",
       "2.000000     2434\n",
       "3.000000     2322\n",
       "4.000000     2133\n",
       "5.000000     1870\n",
       "             ... \n",
       "15.521104       1\n",
       "13.303104       1\n",
       "3.929288        1\n",
       "5.000287        1\n",
       "3.780616        1\n",
       "Name: Biology, Length: 22071, dtype: int64"
      ]
     },
     "execution_count": 23,
     "metadata": {},
     "output_type": "execute_result"
    }
   ],
   "source": [
    "#sns.countplot(df['Biology'])\n",
    "df['Biology'].value_counts()"
   ]
  },
  {
   "cell_type": "code",
   "execution_count": 24,
   "metadata": {},
   "outputs": [
    {
     "data": {
      "text/plain": [
       " 1.000000    4918\n",
       " 2.000000    2978\n",
       " 3.000000    2088\n",
       " 4.000000    1390\n",
       " 5.000000    1041\n",
       "             ... \n",
       " 8.761897       1\n",
       "-2.292135       1\n",
       " 6.146387       1\n",
       "-1.993063       1\n",
       " 2.120205       1\n",
       "Name: Accountancy, Length: 22844, dtype: int64"
      ]
     },
     "execution_count": 24,
     "metadata": {},
     "output_type": "execute_result"
    }
   ],
   "source": [
    "#sns.countplot(df['Accountancy'])\n",
    "df['Accountancy'].value_counts()"
   ]
  },
  {
   "cell_type": "code",
   "execution_count": 25,
   "metadata": {},
   "outputs": [
    {
     "data": {
      "text/plain": [
       "1.000000    4435\n",
       "2.000000    2689\n",
       "3.000000    2040\n",
       "4.000000    1452\n",
       "5.000000    1124\n",
       "            ... \n",
       "2.225757       1\n",
       "2.068917       1\n",
       "1.663263       1\n",
       "2.844250       1\n",
       "2.972070       1\n",
       "Name: BusinessStudies, Length: 22944, dtype: int64"
      ]
     },
     "execution_count": 25,
     "metadata": {},
     "output_type": "execute_result"
    }
   ],
   "source": [
    "#sns.countplot(df['BusinessStudies'])\n",
    "df['BusinessStudies'].value_counts()"
   ]
  },
  {
   "cell_type": "code",
   "execution_count": 26,
   "metadata": {},
   "outputs": [
    {
     "data": {
      "text/plain": [
       "1.000000    5683\n",
       "2.000000    3185\n",
       "3.000000    1815\n",
       "4.000000    1359\n",
       "2.496482     906\n",
       "            ... \n",
       "4.190213       1\n",
       "3.106423       1\n",
       "2.181436       1\n",
       "2.592380       1\n",
       "2.811199       1\n",
       "Name: Economics, Length: 22816, dtype: int64"
      ]
     },
     "execution_count": 26,
     "metadata": {},
     "output_type": "execute_result"
    }
   ],
   "source": [
    "#sns.countplot(df['Economics'])\n",
    "df['Economics'].value_counts()"
   ]
  },
  {
   "cell_type": "code",
   "execution_count": 27,
   "metadata": {},
   "outputs": [
    {
     "data": {
      "text/plain": [
       " 2.000000    3160\n",
       " 1.000000    3040\n",
       " 3.000000    2712\n",
       " 4.000000    2471\n",
       " 5.000000    2258\n",
       "             ... \n",
       " 3.586248       1\n",
       " 3.827263       1\n",
       "-1.360339       1\n",
       " 3.951095       1\n",
       " 2.843173       1\n",
       "Name: ComputerScience, Length: 21135, dtype: int64"
      ]
     },
     "execution_count": 27,
     "metadata": {},
     "output_type": "execute_result"
    }
   ],
   "source": [
    "#sns.countplot(df['ComputerScience'])\n",
    "df['ComputerScience'].value_counts()"
   ]
  },
  {
   "cell_type": "code",
   "execution_count": 28,
   "metadata": {},
   "outputs": [
    {
     "data": {
      "text/plain": [
       "1.000000    7558\n",
       "2.000000    6950\n",
       "3.000000    5404\n",
       "4.000000    4546\n",
       "5.000000    3401\n",
       "            ... \n",
       "5.076855       1\n",
       "2.013188       1\n",
       "4.992429       1\n",
       "3.956380       1\n",
       "4.831403       1\n",
       "Name: PhysicalEducation, Length: 17302, dtype: int64"
      ]
     },
     "execution_count": 28,
     "metadata": {},
     "output_type": "execute_result"
    }
   ],
   "source": [
    "#sns.countplot(df['PhysicalEducation'])\n",
    "df['PhysicalEducation'].value_counts()"
   ]
  },
  {
   "cell_type": "code",
   "execution_count": 30,
   "metadata": {},
   "outputs": [
    {
     "data": {
      "text/plain": [
       "1.0    12401\n",
       "2.0    11461\n",
       "3.0    10546\n",
       "8.0    10091\n",
       "4.0     9609\n",
       "5.0     9583\n",
       "7.0     8872\n",
       "6.0     6902\n",
       "Name: Mathematics, dtype: int64"
      ]
     },
     "execution_count": 30,
     "metadata": {},
     "output_type": "execute_result"
    },
    {
     "data": {
      "image/png": "[encoded data removed]",
      "text/plain": [
       "<Figure size 432x288 with 1 Axes>"
      ]
     },
     "metadata": {
      "needs_background": "light"
     },
     "output_type": "display_data"
    }
   ],
   "source": [
    "sns.countplot(df['Mathematics'])\n",
    "df['Mathematics'].value_counts()"
   ]
  },
  {
   "cell_type": "code",
   "execution_count": 31,
   "metadata": {},
   "outputs": [
    {
     "name": "stdout",
     "output_type": "stream",
     "text": [
      "(79465, 9)\n",
      "(79465,)\n"
     ]
    }
   ],
   "source": [
    "# Dividing X and y from the dataset\n",
    "X = df.drop(['Mathematics'], axis=1)\n",
    "y = df['Mathematics']\n",
    "print(X.shape)\n",
    "print(y.shape)\n",
    "xData = X.values\n",
    "yData = y.values"
   ]
  },
  {
   "cell_type": "code",
   "execution_count": 32,
   "metadata": {},
   "outputs": [],
   "source": [
    "# Split the data into training and testing sets\n",
    "X_train, X_test, y_train, y_test = train_test_split(xData, yData, test_size=0.20, random_state=0)"
   ]
  },
  {
   "cell_type": "code",
   "execution_count": 33,
   "metadata": {},
   "outputs": [],
   "source": [
    "# Lets implement simple classifiers\n",
    "\n",
    "classifiers = {\n",
    "    \"LogisticRegression\": LogisticRegression(),\n",
    "    \"KNeighborsClassifier\": KNeighborsClassifier(),\n",
    "    \"SupportVectorClassifier\": SVC(),\n",
    "    \"RandomForestClassifier\": RandomForestClassifier(),\n",
    "}"
   ]
  },
  {
   "cell_type": "code",
   "execution_count": 34,
   "metadata": {},
   "outputs": [
    {
     "name": "stdout",
     "output_type": "stream",
     "text": [
      "Classifier:  LogisticRegression Has a training score of 70.0 % accuracy score\n",
      "Classifier:  KNeighborsClassifier Has a training score of 63.0 % accuracy score\n",
      "Classifier:  SVC Has a training score of 89.0 % accuracy score\n",
      "Classifier:  RandomForestClassifier Has a training score of 95.0 % accuracy score\n"
     ]
    }
   ],
   "source": [
    "# Applying cross validation\n",
    "from sklearn.model_selection import cross_val_score\n",
    "\n",
    "for key, classifier in classifiers.items():\n",
    "    classifier.fit(X_train,y_train)\n",
    "    training_score = cross_val_score(classifier, X_train, y_train, cv=4)\n",
    "    print(\"Classifier: \", classifier.__class__.__name__, \"Has a training score of\", round(training_score.mean(), 2) * 100, \"% accuracy score\")"
   ]
  },
  {
   "cell_type": "markdown",
   "metadata": {},
   "source": [
    "### From the cross val score we can say that Random Forest performance is the best so we will go ahead with Random Forest"
   ]
  },
  {
   "cell_type": "code",
   "execution_count": 35,
   "metadata": {},
   "outputs": [],
   "source": [
    "rfc = RandomForestClassifier()\n",
    "rfc.fit(X_train,y_train)\n",
    "\n",
    "#prediction\n",
    "y_pred = rfc.predict(X_test)"
   ]
  },
  {
   "cell_type": "code",
   "execution_count": 36,
   "metadata": {},
   "outputs": [
    {
     "name": "stdout",
     "output_type": "stream",
     "text": [
      "Accuracy = 0.9621216887938085\n"
     ]
    }
   ],
   "source": [
    "# Evaluating Model by calculating Accuracy, Precision, Recall and F1-Score\n",
    "acc = accuracy_score(y_test,y_pred)\n",
    "print(\"Accuracy = {}\".format(acc))"
   ]
  },
  {
   "cell_type": "code",
   "execution_count": 37,
   "metadata": {},
   "outputs": [
    {
     "name": "stdout",
     "output_type": "stream",
     "text": [
      "Precision = 0.962194260480788\n",
      "Recall = 0.9621216887938085\n",
      "F1-Score = 0.9621181151282016\n"
     ]
    }
   ],
   "source": [
    "prec = precision_score(y_test,y_pred, average='weighted')\n",
    "print(\"Precision = {}\".format(prec))\n",
    "\n",
    "rec = recall_score(y_test,y_pred, average='weighted')\n",
    "print(\"Recall = {}\".format(rec))\n",
    "\n",
    "f1 = f1_score(y_test,y_pred, average='weighted')\n",
    "print(\"F1-Score = {}\".format(f1))"
   ]
  },
  {
   "cell_type": "code",
   "execution_count": 40,
   "metadata": {},
   "outputs": [
    {
     "name": "stdout",
     "output_type": "stream",
     "text": [
      "[[2365   46    6    0    0    0    0    0]\n",
      " [   9 2181   50    1    0    0    0    0]\n",
      " [   2   16 1981   57    1    1    0    1]\n",
      " [   0    1   26 1931   51    2    0    0]\n",
      " [   0    0    0   34 1863   42    3    2]\n",
      " [   0    0    0    1   43 1311   53    6]\n",
      " [   0    1    1    1    4   27 1678   73]\n",
      " [   0    1    0    1    1    0   38 1981]]\n"
     ]
    },
    {
     "data": {
      "image/png": "[encoded data removed]",
      "text/plain": [
       "<Figure size 720x720 with 2 Axes>"
      ]
     },
     "metadata": {
      "needs_background": "light"
     },
     "output_type": "display_data"
    }
   ],
   "source": [
    "# Plotting the confusion matrix\n",
    "from sklearn.metrics import confusion_matrix\n",
    "LABElS = ['Original Score','Predicted Score']\n",
    "con_matrix = confusion_matrix(y_test,y_pred)\n",
    "plt.figure(figsize=(10,10))\n",
    "sns.heatmap(con_matrix, annot=True, fmt=\"d\")\n",
    "plt.title(\"Confusion Matrix\")\n",
    "#plt.ylabel(\"Original Class\")\n",
    "#plt.xlabel(\"Predicted Class\")\n",
    "print(con_matrix)\n",
    "plt.show()"
   ]
  },
  {
   "cell_type": "code",
   "execution_count": null,
   "metadata": {},
   "outputs": [],
   "source": []
  }
 ],
 "metadata": {
  "kernelspec": {
   "display_name": "Python 3",
   "language": "python",
   "name": "python3"
  },
  "language_info": {
   "codemirror_mode": {
    "name": "ipython",
    "version": 3
   },
   "file_extension": ".py",
   "mimetype": "text/x-python",
   "name": "python",
   "nbconvert_exporter": "python",
   "pygments_lexer": "ipython3",
   "version": "3.7.6"
  }
 },
 "nbformat": 4,
 "nbformat_minor": 4
}
